{
 "cells": [
  {
   "cell_type": "markdown",
   "metadata": {},
   "source": [
    "# Mon beau script à moi"
   ]
  },
  {
   "cell_type": "code",
   "execution_count": 66,
   "metadata": {},
   "outputs": [
    {
     "name": "stdout",
     "output_type": "stream",
     "text": [
      "In c:\\Users\\ldemontreuille\\Downloads\\DEV_PYTHON\\wpya0254_server.log\n",
      "Start date : 2019-06-20 15:53:40\n",
      "End date :   2019-10-16 15:24:16\n",
      "Infos count = 4079 (31 %)\n",
      "Warnings count = 111 (1 %)\n",
      "Errors count = 678 (5 %)\n",
      "Fatals count = 0 (0 %)\n",
      "------------------------------\n",
      "Total lines = 13109\n"
     ]
    },
    {
     "data": {
      "image/png": "[encoded data removed]",
      "text/plain": [
       "<Figure size 432x288 with 1 Axes>"
      ]
     },
     "metadata": {
      "needs_background": "light"
     },
     "output_type": "display_data"
    }
   ],
   "source": [
    "\"\"\" But : \n",
    "    - parcourir un fichier de log (Cassandra pour commencer) fourni en paramètre\n",
    "    - compter les occurences de niveau d'erreur : INFO,WARN,ERROR, FATAL\n",
    "    - afficher date de début et de fin  \n",
    "    - grapher les données dans un histogramme simple : X = type, Y = nb d'erreur\n",
    "    - résumer le tout dans un élégant bloc de texte. \n",
    "    - le tout en collant au PEP8 au plus près.\n",
    "\"\"\"\n",
    "\n",
    "\"\"\"Conventions :\n",
    "naming variable = naming function = lowercase + underscore \"\"\"\n",
    "\n",
    "\"\"\" IMPORTS \"\"\"\n",
    "import sys                      # pour récupérer le nom du fichier  \n",
    "import os                       # Parce que pourquoi pas \n",
    "import numpy as np              # pour tracer les graphs\n",
    "import matplotlib.pyplot as plt # pour tracer les graphs\n",
    "\n",
    "\n",
    "\"\"\" VARIABLES \"\"\"\n",
    "file_2_parse = r\"c:\\Users\\ldemontreuille\\Downloads\\DEV_PYTHON\\wpya0254_server.log\"\n",
    "error_levels = [\"INFO\",\"WARN\",\"ERROR\",\"FATAL\"] # liste des niveaux connus. Placeholder\n",
    "\n",
    "\n",
    "\"\"\" FUNCTIONS \"\"\"\n",
    "\n",
    "def get_parameter_or_get_lost():\n",
    "    \"\"\"Si un chemin vers un fichier est donné : il devient le paramèter file_2_parse\n",
    "    Sinon on colle un defaut ou une erreur \n",
    "    Sous Windows, ça marche par trop. Le code fonctionne sous un Linux\"\"\"\n",
    "    arg_file = sys.argv[0]\n",
    "    try:\n",
    "        with open(arg_file):\n",
    "            pass                    # si ça marche, tant mieux\n",
    "    except IOError:\n",
    "        print(\"File not found\")\n",
    "    \n",
    "def parse_file(file_2_parse):\n",
    "    \"\"\"Ouvre un fichier de log et compte des trucs\"\"\"\n",
    "    nb_errors = nb_warnings = nb_infos = nb_fatals = nb_lines = 0 # tous les compteurs à zéro\n",
    "    with open(file_2_parse,\"r\") as fh:                                # file handler \n",
    "        for line in fh:\n",
    "            nb_lines += 1\n",
    "            if (\"INFO\" in line) or (\"WARN\" in line) or (\"ERROR\" in line) or (\"FATAL\" in line) :\n",
    "                line_pieces = line.split()\n",
    "                error_level = line_pieces[0]\n",
    "                if \"INFO\" in error_level:\n",
    "                    nb_infos += 1\n",
    "                if \"WARN\" in error_level:\n",
    "                    nb_warnings += 1\n",
    "                if \"ERROR\" in error_level:\n",
    "                    nb_errors += 1           \n",
    "                if \"FATAL\" in error_level:\n",
    "                    nb_fatals += 1   \n",
    "    return file_2_parse, nb_infos, nb_warnings, nb_errors, nb_fatals, nb_lines\n",
    "\n",
    "def get_first_line(file_2_parse):\n",
    "    \"\"\"On récupère la date de la première ligne du ficher\"\"\"\n",
    "    with open(file_2_parse,\"r\") as fh:\n",
    "        for line in fh:\n",
    "            if (\"INFO\" in line) or (\"WARN\" in line) or (\"ERROR\" in line) or (\"FATAL\" in line):\n",
    "                first_line = fh.readlines()[0] # première ligne. Doit contenir une erreur\n",
    "                break                        \n",
    "    first_hour = first_line.split()[3].split(\",\")[0] #Récup champ date + suppression millisecondes\n",
    "    first_date = [first_line.split()[2],first_line.split()[3].split(\",\")[0]]\n",
    "    return \" \".join(first_date) \n",
    "\n",
    "def get_last_line(file_2_parse):\n",
    "    \"\"\" lecture du fichier file_2_parse par la fin\"\"\"\n",
    "    with open(file_2_parse,\"r\") as fh:\n",
    "        for line in fh:\n",
    "            if (\"INFO\" in line) or (\"WARN\" in line) or (\"ERROR\" in line) or (\"FATAL\" in line):\n",
    "                last_line = fh.readlines()[-1] # première ligne. Doit contenir une erreur\n",
    "                break                        \n",
    "    last_hour = last_line.split()[3].split(\",\")[0] #Récup champ date + suppression millisecondes\n",
    "    last_date = [last_line.split()[2],last_line.split()[3].split(\",\")[0]]\n",
    "    return \" \".join(last_date)   \n",
    "\n",
    "def print_header(res_tuple,f_date,l_date):  # a remplacer pour qu'elle admette un tuple\n",
    "    \"\"\" Construit un résumé depuis le tuple retourné par parse_file\"\"\"\n",
    "    # 1) on affecte les champs de paramètres aux bonnes variables : \n",
    "    file_2_parse = res_tuple[0]\n",
    "    nb_infos = res_tuple[1]\n",
    "    nb_warnings = res_tuple[2]\n",
    "    nb_errors = res_tuple[3]\n",
    "    nb_fatals = res_tuple[4]\n",
    "    nb_lines = res_tuple[5]\n",
    "    first_date = f_date\n",
    "    last_date = l_date\n",
    "    \n",
    "    # 2) Un peu de calcul et de mise en forme\n",
    "    info_percent = round((nb_infos/nb_lines)*100)\n",
    "    warning_percent = round((nb_warnings/nb_lines)*100)\n",
    "    error_percent = round((nb_errors/nb_lines)*100)\n",
    "    fatal_percent = round((nb_fatals/nb_lines)*100)\n",
    "    \n",
    "    # 3) on construit le rapport, version texte\n",
    "    print(f\"In {file_2_parse}\") \n",
    "    print(f\"Start date : {first_date}\\nEnd date :   {last_date}\")\n",
    "    print(f\"Infos count = {nb_infos} ({info_percent} %)\")\n",
    "    print(f\"Warnings count = {nb_warnings} ({warning_percent} %)\")\n",
    "    print(f\"Errors count = {nb_errors} ({error_percent} %)\")\n",
    "    print(f\"Fatals count = {nb_fatals} ({fatal_percent} %)\")\n",
    "    print(\"------------------------------\")\n",
    "    print(f\"Total lines = {nb_lines}\")\n",
    "    \n",
    "def simple_graph(res_tuple):\n",
    "    \"\"\" Tracer un graph simple pour visualiser le nb d'erreur par catégorie. \n",
    "    On récupère depuis parse_file : file_2_parse, nb_infos, nb_warnings, nb_errors, nb_fatals, nb_lines\"\"\"\n",
    "    \n",
    "    # 1) faudrait peut-être un tableau, non ? \n",
    "    res_list = [res_tuple[1],res_tuple[2],res_tuple[3],res_tuple[4]] # liste des nb d'occurences \n",
    "    res_seq = ('Info','Warning','Errors','Fatals')                   # liste des types d'erreur \n",
    "    y_pos = np.arange(len(res_seq))                                  # Egalise les espaces entre valeurs\n",
    "    plt.bar(y_pos, res_list, align='center', alpha=0.5)              # pour chaque élément de res_seq, on construit                                                                     # la barre de nb d'occurences de res_list\n",
    "    plt.xticks(y_pos, res_seq)\n",
    "    plt.ylabel('Nb occurences')\n",
    "    plt.title(\"Type d'erreurs\" )\n",
    "    plt.show()\n",
    "    \n",
    "    \n",
    "\"\"\" Main \"\"\"\n",
    "f_date=get_first_line(file_2_parse)    # on récupère la date de la première ligne \n",
    "l_date=get_last_line(file_2_parse)     # on récupère la date de la dernière ligne \n",
    "res = parse_file(file_2_parse)         # on construit le tupple avec les différents comptages \n",
    "print_header(res,f_date,l_date)        # on construit l'en-tête élégant\n",
    "simple_graph(res)                      # on trace un dessin pour ceux qui n'aiment pas lire\n",
    "get_parameter_or_get_lost()\n"
   ]
  },
  {
   "cell_type": "code",
   "execution_count": 60,
   "metadata": {},
   "outputs": [
    {
     "name": "stdout",
     "output_type": "stream",
     "text": [
      "-f\n"
     ]
    }
   ],
   "source": [
    "get_parameter_or_get_lost()\n"
   ]
  },
  {
   "cell_type": "code",
   "execution_count": 62,
   "metadata": {},
   "outputs": [
    {
     "data": {
      "text/plain": [
       "'C:\\\\Users\\\\ldemontreuille\\\\Anaconda3\\\\lib\\\\site-packages\\\\ipykernel_launcher.py'"
      ]
     },
     "execution_count": 62,
     "metadata": {},
     "output_type": "execute_result"
    }
   ],
   "source": [
    "sys.argv[0]"
   ]
  },
  {
   "cell_type": "code",
   "execution_count": 63,
   "metadata": {},
   "outputs": [
    {
     "name": "stdout",
     "output_type": "stream",
     "text": [
      "C:\\Users\\ldemontreuille\\Anaconda3\\lib\\site-packages\\ipykernel_launcher.py\n",
      "-f\n",
      "C:\\Users\\ldemontreuille\\AppData\\Roaming\\jupyter\\runtime\\kernel-8335adcd-44aa-4a9c-a87c-3d746db805cf.json\n"
     ]
    }
   ],
   "source": [
    "for element in sys.argv:\n",
    "    print (element)"
   ]
  },
  {
   "cell_type": "code",
   "execution_count": null,
   "metadata": {},
   "outputs": [],
   "source": []
  }
 ],
 "metadata": {
  "kernelspec": {
   "display_name": "Python 3",
   "language": "python",
   "name": "python3"
  },
  "language_info": {
   "codemirror_mode": {
    "name": "ipython",
    "version": 3
   },
   "file_extension": ".py",
   "mimetype": "text/x-python",
   "name": "python",
   "nbconvert_exporter": "python",
   "pygments_lexer": "ipython3",
   "version": "3.7.4"
  }
 },
 "nbformat": 4,
 "nbformat_minor": 2
}
